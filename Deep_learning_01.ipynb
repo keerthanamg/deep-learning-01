{
  "nbformat": 4,
  "nbformat_minor": 0,
  "metadata": {
    "colab": {
      "provenance": [],
      "authorship_tag": "ABX9TyNTsFkhesBeQn6dyr6NVjll",
      "include_colab_link": true
    },
    "kernelspec": {
      "name": "python3",
      "display_name": "Python 3"
    },
    "language_info": {
      "name": "python"
    }
  },
  "cells": [
    {
      "cell_type": "markdown",
      "metadata": {
        "id": "view-in-github",
        "colab_type": "text"
      },
      "source": [
        "<a href=\"https://colab.research.google.com/github/keerthanamg/deep-learning-01/blob/main/Deep_learning_01.ipynb\" target=\"_parent\"><img src=\"https://colab.research.google.com/assets/colab-badge.svg\" alt=\"Open In Colab\"/></a>"
      ]
    },
    {
      "cell_type": "code",
      "source": [
        "import nltk\n",
        "nltk.download('punkt')\n",
        "nltk.download('averaged_perceptron_tagger')\n",
        "nltk.download('maxent_ne_chunker')\n",
        "nltk.download('words')\n",
        "#Uncomment these lines if the specified files aren't downloaded\n",
        "\n",
        "sentence = \"\"\"The Kashmir Files is a 2022 Indian Hindi-language drama film, \\\n",
        "written and directed by Vivek Agnihotri. Produced by Zee Studios, \\\n",
        "the film is based on the exodus of Kashmiri Pandits during the Kashmir Insurgency, \\\n",
        "which it portrays as a genocide. \\\n",
        "It stars Anupam Kher, Darshan Kumar, Pallavi Joshi and Mithun Chakraborty.\"\"\"\n",
        "for sent in nltk.sent_tokenize(sentence):\n",
        "    for chunk in nltk.ne_chunk(nltk.pos_tag(nltk.word_tokenize(sent))):\n",
        "        if hasattr(chunk, 'label'):\n",
        "                print(f\"{' '.join(c[0] for c in chunk):<35} {chunk.label()}\")"
      ],
      "metadata": {
        "colab": {
          "base_uri": "https://localhost:8080/"
        },
        "id": "5vvWUQd50Kp6",
        "outputId": "ef16eeba-afa1-4fb1-faa7-f53a6b8ccc19"
      },
      "execution_count": 3,
      "outputs": [
        {
          "output_type": "stream",
          "name": "stderr",
          "text": [
            "[nltk_data] Downloading package punkt to /root/nltk_data...\n",
            "[nltk_data]   Unzipping tokenizers/punkt.zip.\n",
            "[nltk_data] Downloading package averaged_perceptron_tagger to\n",
            "[nltk_data]     /root/nltk_data...\n",
            "[nltk_data]   Unzipping taggers/averaged_perceptron_tagger.zip.\n",
            "[nltk_data] Downloading package maxent_ne_chunker to\n",
            "[nltk_data]     /root/nltk_data...\n",
            "[nltk_data]   Unzipping chunkers/maxent_ne_chunker.zip.\n",
            "[nltk_data] Downloading package words to /root/nltk_data...\n",
            "[nltk_data]   Unzipping corpora/words.zip.\n"
          ]
        },
        {
          "output_type": "stream",
          "name": "stdout",
          "text": [
            "Kashmir Files                       ORGANIZATION\n",
            "Indian                              GPE\n",
            "Vivek Agnihotri                     PERSON\n",
            "Zee Studios                         PERSON\n",
            "Kashmiri Pandits                    ORGANIZATION\n",
            "Kashmir Insurgency                  ORGANIZATION\n",
            "Anupam Kher                         PERSON\n",
            "Darshan Kumar                       PERSON\n",
            "Pallavi Joshi                       PERSON\n",
            "Mithun Chakraborty                  PERSON\n"
          ]
        }
      ]
    }
  ]
}